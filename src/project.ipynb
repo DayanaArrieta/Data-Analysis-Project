{
 "cells": [
  {
   "attachments": {},
   "cell_type": "markdown",
   "metadata": {},
   "source": [
    "# Data analysis project"
   ]
  },
  {
   "attachments": {},
   "cell_type": "markdown",
   "metadata": {},
   "source": [
    "###### Edit of the csv data to change the delimiter"
   ]
  },
  {
   "cell_type": "code",
   "execution_count": null,
   "metadata": {},
   "outputs": [],
   "source": [
    "#robbery = pd.read_csv('robbery.csv', delimiter=';')\n",
    "#robbery.head()\n",
    "#robbery.to_csv('robbery_data.csv', sep=',', index=False)"
   ]
  },
  {
   "attachments": {},
   "cell_type": "markdown",
   "metadata": {},
   "source": [
    "### Data Analysis"
   ]
  },
  {
   "cell_type": "code",
   "execution_count": null,
   "metadata": {},
   "outputs": [],
   "source": [
    "import pandas as pd\n",
    "robbery = pd.read_csv('../data/crud/robbery_data.csv')"
   ]
  },
  {
   "cell_type": "code",
   "execution_count": null,
   "metadata": {},
   "outputs": [],
   "source": [
    "robbery.head()\n",
    "robbery.dtypes\n",
    "robbery.index\n",
    "robbery.info()\n"
   ]
  },
  {
   "cell_type": "code",
   "execution_count": null,
   "metadata": {},
   "outputs": [],
   "source": [
    "robbery['fecha_hecho'] = pd.to_datetime(robbery['fecha_hecho'])\n",
    "years = robbery['fecha_hecho'].dt.year.unique()\n",
    "for year in years:\n",
    "    year_robbery = robbery[robbery['fecha_hecho'].dt.year == year]\n",
    "    year_robbery.to_csv(f'{year}_data.csv', index=False)"
   ]
  },
  {
   "cell_type": "code",
   "execution_count": null,
   "metadata": {},
   "outputs": [],
   "source": [
    "import os\n",
    "import pandas as pd\n",
    "\n",
    "# Set the directory containing the input CSV files\n",
    "data_dir = '../data/dirty'\n",
    "\n",
    "# Loop through all the CSV files in the data directory\n",
    "for file_name in os.listdir(data_dir):\n",
    "    if file_name.endswith('.csv'):\n",
    "        # Construct the full file path to the input CSV file\n",
    "        file_path = os.path.join(data_dir, file_name)\n",
    "\n",
    "        # Read the CSV file into a pandas DataFrame\n",
    "        df = pd.read_csv(file_path)\n",
    "\n",
    "        # Drop the columns that you want to delete\n",
    "        columns_to_drop = ['cantidad', 'latitud', 'longitud', 'estado_civil', 'grupo_actor', 'actividad_delictiva', 'parentesco', 'ocupacion', 'discapacidad', 'grupo_especial', 'nivel_academico', 'testigo', 'conducta', 'modalidad', 'caracterizacion', 'conducta_especial', 'articulo_penal', 'categoria_penal', 'lugar', 'sede_receptora', 'bien', 'categoria_bien', 'grupo_bien', 'modelo', 'color', 'permiso', 'unidad_medida', 'fecha_ingestion']\n",
    "        df = df.drop(columns_to_drop, axis=1)\n",
    "\n",
    "        # Set the directory to save the cleaned CSV file\n",
    "        clean_dir = '../data/clean'\n",
    "\n",
    "        # Construct the full file path to the output cleaned CSV file\n",
    "        new_file_name = file_name.replace('.csv', '_cleaned.csv')\n",
    "        new_file_path = os.path.join(clean_dir, new_file_name)\n",
    "\n",
    "        # Save the cleaned DataFrame to a new CSV file in the clean directory\n",
    "        df.to_csv(new_file_path, index=False)\n"
   ]
  },
  {
   "cell_type": "code",
   "execution_count": null,
   "metadata": {},
   "outputs": [],
   "source": [
    "robbery_2003 = pd.read_csv('../data/clean/2003_data_cleaned.csv')"
   ]
  },
  {
   "cell_type": "code",
   "execution_count": null,
   "metadata": {},
   "outputs": [],
   "source": [
    "robbery_2003.info()"
   ]
  },
  {
   "cell_type": "code",
   "execution_count": null,
   "metadata": {},
   "outputs": [],
   "source": [
    "from ydata_profiling import ProfileReport\n",
    "profile = ProfileReport(robbery_2003, title=\"Profiling Report\")"
   ]
  },
  {
   "cell_type": "code",
   "execution_count": null,
   "metadata": {},
   "outputs": [],
   "source": [
    "import os\n",
    "import pandas as pd\n",
    "\n",
    "# Set the directory containing the CSV files\n",
    "directory = '../data/clean'\n",
    "\n",
    "# Loop through each CSV file in the directory\n",
    "for filename in os.listdir(directory):\n",
    "    if filename.endswith('.csv'):\n",
    "        filepath = os.path.join(directory, filename)\n",
    "        # Load the CSV file into a DataFrame\n",
    "        df = pd.read_csv(filepath)\n",
    "        # Drop the \"medio_transporte\" column\n",
    "        df.drop(columns=['medio_transporte'], inplace=True)\n",
    "        # Save the cleaned DataFrame back to the original CSV file\n",
    "        df.to_csv(filepath, index=False)"
   ]
  }
 ],
 "metadata": {
  "kernelspec": {
   "display_name": "Python 3",
   "language": "python",
   "name": "python3"
  },
  "language_info": {
   "codemirror_mode": {
    "name": "ipython",
    "version": 3
   },
   "file_extension": ".py",
   "mimetype": "text/x-python",
   "name": "python",
   "nbconvert_exporter": "python",
   "pygments_lexer": "ipython3",
   "version": "3.10.6"
  },
  "orig_nbformat": 4
 },
 "nbformat": 4,
 "nbformat_minor": 2
}
